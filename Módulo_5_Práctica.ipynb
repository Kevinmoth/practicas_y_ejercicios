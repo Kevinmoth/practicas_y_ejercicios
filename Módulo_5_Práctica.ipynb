{
  "cells": [
    {
      "cell_type": "markdown",
      "metadata": {
        "id": "view-in-github",
        "colab_type": "text"
      },
      "source": [
        "<a href=\"https://colab.research.google.com/github/Kevinmoth/practicas_y_ejercicios/blob/main/M%C3%B3dulo_5_Pr%C3%A1ctica.ipynb\" target=\"_parent\"><img src=\"https://colab.research.google.com/assets/colab-badge.svg\" alt=\"Open In Colab\"/></a>"
      ]
    },
    {
      "cell_type": "markdown",
      "metadata": {
        "id": "hYsRwcR7ReKR"
      },
      "source": [
        "\n",
        "\n",
        "---\n",
        "# ***Programación Avanzada con Python***\n",
        "---\n",
        "\n",
        "## **Módulo 5**: Estadística Descriptiva - Práctica\n",
        "\n",
        "### ***Universidad Nacional de Chilecito***\n",
        "\n",
        "---\n"
      ]
    },
    {
      "cell_type": "markdown",
      "metadata": {
        "id": "uXnJUL59ReKh"
      },
      "source": [
        "La idea de esta práctica es ejercitar los puntos que vamos a necesitar para resolver el desafío.\n",
        "\n",
        "Usaremos un resumen del dataset de Kaggle que tiene datos de ventas:\n",
        "\n",
        "https://www.kaggle.com/kyanyoga/sample-sales-data"
      ]
    },
    {
      "cell_type": "markdown",
      "source": [
        "## Ejercicio 1\n",
        "Leer los datos del archivo /Data/sales_data_sample_excercise.csv\n",
        "\n",
        "Este archivo tiene algunos datos numéricos y otros de tipo cadena de caracteres.\n",
        "\n",
        "Las columnas son:\n",
        "\n",
        "* ORDERNUMBER: int, id de la orden\n",
        "\n",
        "* SALES: float, monto abonado\n",
        "\n",
        "* MONTH_ID: int, mes\n",
        "\n",
        "* YEAR_ID: int, año\n",
        "\n",
        "* PRODUCTLINE: str, producto\n",
        "\n",
        "* COUNTRY: str, país de venta\n",
        "\n",
        "¿Recuerdan que todos los elementos de una instancia de ndarray deben ser del mismo tipo? Entonces vamos a leer el archivo y crear una instancia de ndarray de tipo cadena de caracteres.\n",
        "\n",
        "\n"
      ],
      "metadata": {
        "id": "Le28nxBEaMYx"
      }
    },
    {
      "cell_type": "markdown",
      "source": [
        "Con ayuda del siguiente código podrás vincular tu cuenta de Google Drive.\n",
        "Como recomendación te pedimos que crees una carpeta denominada como `AP_UNdeC` dentro de tu carpeta principal de Drive.\n",
        "Dentro de esa carpeta crea otra carpeta denominada `Data` en esa carpeta deberás subir siempre los archivos que necesites utilizar."
      ],
      "metadata": {
        "id": "qX3LM06pah80"
      }
    },
    {
      "cell_type": "code",
      "source": [
        "from google.colab import drive\n",
        "drive.mount('/content/drive')\n",
        "pathCurso = '/content/drive/MyDrive/AP_UNdeC/Data/'"
      ],
      "metadata": {
        "colab": {
          "base_uri": "https://localhost:8080/"
        },
        "id": "rLvxzUM2aorq",
        "outputId": "c1ad05aa-57ee-410e-96ac-0773cd385b41"
      },
      "execution_count": null,
      "outputs": [
        {
          "output_type": "stream",
          "name": "stdout",
          "text": [
            "Mounted at /content/drive\n"
          ]
        }
      ]
    },
    {
      "cell_type": "markdown",
      "source": [
        "Con el siguiente comando podrás abrir el archivo que vamos a necesitar en ésta ocasión:"
      ],
      "metadata": {
        "id": "NdZTgfoBbKXg"
      }
    },
    {
      "cell_type": "code",
      "source": [
        "import numpy as np\n",
        "\n",
        "# local:\n",
        "data_location = pathCurso + 'sales_data_sample_excercise.csv'"
      ],
      "metadata": {
        "id": "wh5skyozbHPp"
      },
      "execution_count": null,
      "outputs": []
    },
    {
      "cell_type": "markdown",
      "source": [
        "Con el siguiente código podrás importar el archivo:"
      ],
      "metadata": {
        "id": "yt0jC7v4bUzp"
      }
    },
    {
      "cell_type": "code",
      "source": [
        "data = np.genfromtxt(data_location, skip_header=1, delimiter='\\t', dtype= str)\n",
        "data"
      ],
      "metadata": {
        "id": "hWHzHCJObTJ4"
      },
      "execution_count": null,
      "outputs": []
    },
    {
      "cell_type": "code",
      "source": [
        "data_type_str = np.genfromtxt(data_location, skip_header=1, delimiter='\\t', dtype= str)\n",
        "data_type_str"
      ],
      "metadata": {
        "id": "Yyys0lRFblDu"
      },
      "execution_count": null,
      "outputs": []
    },
    {
      "cell_type": "code",
      "source": [
        "data_type_int = np.genfromtxt(data_location, skip_header=1, delimiter='\\t', dtype= int)\n",
        "data_type_int"
      ],
      "metadata": {
        "id": "6ZZwDxaVbnFF"
      },
      "execution_count": null,
      "outputs": []
    },
    {
      "cell_type": "code",
      "source": [
        "data_type_float = np.genfromtxt(data_location, skip_header=1, delimiter='\\t', dtype= float)\n",
        "data_type_float"
      ],
      "metadata": {
        "id": "Hx4p6BT8bpB2"
      },
      "execution_count": null,
      "outputs": []
    },
    {
      "cell_type": "markdown",
      "source": [
        "## Ejercicio 2\n",
        "\n",
        "La función `distribution_plotter` grafica los datos que recibe como parámetro en una instancia de numpy array\n",
        "\n",
        "Graficar los precios de ventas en tres países. ¿Qué pueden decir respecto a sus distribuciones?\n",
        "\n",
        "Comparar las distribuciones con la de los precios de ventas sin distinguir por paises"
      ],
      "metadata": {
        "id": "boOUyScMLcon"
      }
    },
    {
      "cell_type": "code",
      "source": [
        "import seaborn as sns\n",
        "\n",
        "def distribution_plotter(data, label, bin_width=500):\n",
        "    sns.set(rc={\"figure.figsize\": (7, 5)})\n",
        "    sns.set_style(\"white\")\n",
        "    dist = sns.histplot(data, stat = 'count', kde = False,\n",
        "                        line_kws = {'linewidth':5},\n",
        "                        binwidth = bin_width)\n",
        "    dist.set_title('Distribucion ' + label + '\\n', fontsize = 16)"
      ],
      "metadata": {
        "id": "tW1KLZUALd4I"
      },
      "execution_count": null,
      "outputs": []
    },
    {
      "cell_type": "code",
      "source": [],
      "metadata": {
        "id": "UFI-OM9rLfVy"
      },
      "execution_count": null,
      "outputs": []
    },
    {
      "cell_type": "markdown",
      "source": [
        "Con ayuda del siguiente comando podrás ver que pasíses hay:"
      ],
      "metadata": {
        "id": "DeJzKyCcLsAA"
      }
    },
    {
      "cell_type": "code",
      "source": [
        "country_vector = data[:, 5]\n",
        "\n",
        "paises_unicos = np.unique(country_vector)\n",
        "print(paises_unicos)"
      ],
      "metadata": {
        "id": "KH3i6hJDLn5h"
      },
      "execution_count": null,
      "outputs": []
    },
    {
      "cell_type": "code",
      "source": [],
      "metadata": {
        "id": "jvcC375dLq8_"
      },
      "execution_count": null,
      "outputs": []
    },
    {
      "cell_type": "code",
      "source": [],
      "metadata": {
        "id": "A-uyAw36Lw8j"
      },
      "execution_count": null,
      "outputs": []
    },
    {
      "cell_type": "code",
      "source": [],
      "metadata": {
        "id": "2fJF5K0qLy9G"
      },
      "execution_count": null,
      "outputs": []
    },
    {
      "cell_type": "markdown",
      "source": [
        "## Ejercicio 3\n",
        "Para los tres países del punto anterior, calcular con dos decimales\n",
        "* Media\n",
        "* Mediana\n",
        "* Rango\n",
        "* Desvío estandard\n",
        "\n",
        "Repetir para todos los datos de ventas sin distinguir por país.\n",
        "\n",
        "¿Qué conclusiones pueden sacar respecto a la información que brinda cada una de estas medidas en este caso particular?"
      ],
      "metadata": {
        "id": "MeAWlSfHL3rX"
      }
    },
    {
      "cell_type": "code",
      "source": [],
      "metadata": {
        "id": "XZM0sEppL66g"
      },
      "execution_count": null,
      "outputs": []
    },
    {
      "cell_type": "code",
      "source": [],
      "metadata": {
        "id": "AkoG9OadNBEM"
      },
      "execution_count": null,
      "outputs": []
    },
    {
      "cell_type": "code",
      "source": [],
      "metadata": {
        "id": "Xb28qKo7NBBN"
      },
      "execution_count": null,
      "outputs": []
    },
    {
      "cell_type": "code",
      "source": [],
      "metadata": {
        "id": "H7tuCwRSNA-Q"
      },
      "execution_count": null,
      "outputs": []
    }
  ],
  "metadata": {
    "kernelspec": {
      "display_name": "Python 3",
      "language": "python",
      "name": "python3"
    },
    "language_info": {
      "codemirror_mode": {
        "name": "ipython",
        "version": 3
      },
      "file_extension": ".py",
      "mimetype": "text/x-python",
      "name": "python",
      "nbconvert_exporter": "python",
      "pygments_lexer": "ipython3",
      "version": "3.8.5"
    },
    "colab": {
      "provenance": [],
      "include_colab_link": true
    }
  },
  "nbformat": 4,
  "nbformat_minor": 0
}
